{
 "cells": [
  {
   "cell_type": "markdown",
   "id": "buried-shadow",
   "metadata": {
    "papermill": {
     "duration": 0.024662,
     "end_time": "2021-04-11T16:29:32.399305",
     "exception": false,
     "start_time": "2021-04-11T16:29:32.374643",
     "status": "completed"
    },
    "tags": []
   },
   "source": [
    "**Hi everyone, after a long time I came back with ML prediction. The performance of students will be significant for all school. I want to decide the performance of the students with ML modelling. First, I prepared data before the modelling like are there any missing value, mean scores of exam resulst, correlation and so on.**"
   ]
  },
  {
   "cell_type": "markdown",
   "id": "simplified-bicycle",
   "metadata": {
    "papermill": {
     "duration": 0.023339,
     "end_time": "2021-04-11T16:29:32.445267",
     "exception": false,
     "start_time": "2021-04-11T16:29:32.421928",
     "status": "completed"
    },
    "tags": []
   },
   "source": [
    "# Libraries"
   ]
  },
  {
   "cell_type": "code",
   "execution_count": 1,
   "id": "brutal-waters",
   "metadata": {
    "execution": {
     "iopub.execute_input": "2021-04-11T16:29:32.501712Z",
     "iopub.status.busy": "2021-04-11T16:29:32.500964Z",
     "iopub.status.idle": "2021-04-11T16:29:35.465002Z",
     "shell.execute_reply": "2021-04-11T16:29:35.466583Z"
    },
    "papermill": {
     "duration": 2.999048,
     "end_time": "2021-04-11T16:29:35.467161",
     "exception": false,
     "start_time": "2021-04-11T16:29:32.468113",
     "status": "completed"
    },
    "tags": []
   },
   "outputs": [
    {
     "name": "stdout",
     "output_type": "stream",
     "text": [
      "/kaggle/input/students-performance-in-exams/StudentsPerformance.csv\n"
     ]
    }
   ],
   "source": [
    "# Basic Import\n",
    "import numpy as np\n",
    "import pandas as pd\n",
    "\n",
    "# Vis.\n",
    "import plotly.express as px\n",
    "import matplotlib.pyplot as plt\n",
    "import seaborn as sns\n",
    "\n",
    "# Modelling\n",
    "from sklearn.model_selection import train_test_split\n",
    "from sklearn.metrics import mean_squared_error, r2_score\n",
    "\n",
    "\n",
    "from sklearn.ensemble import RandomForestRegressor\n",
    "from sklearn.linear_model import LinearRegression\n",
    "\n",
    "import warnings\n",
    "\n",
    "\n",
    "import os\n",
    "for dirname, _, filenames in os.walk('/kaggle/input'):\n",
    "    for filename in filenames:\n",
    "        print(os.path.join(dirname, filename))"
   ]
  },
  {
   "cell_type": "markdown",
   "id": "curious-cycle",
   "metadata": {
    "papermill": {
     "duration": 0.024248,
     "end_time": "2021-04-11T16:29:35.515049",
     "exception": false,
     "start_time": "2021-04-11T16:29:35.490801",
     "status": "completed"
    },
    "tags": []
   },
   "source": [
    "# Data Preparation"
   ]
  },
  {
   "cell_type": "code",
   "execution_count": 2,
   "id": "committed-bonus",
   "metadata": {
    "execution": {
     "iopub.execute_input": "2021-04-11T16:29:35.567212Z",
     "iopub.status.busy": "2021-04-11T16:29:35.566441Z",
     "iopub.status.idle": "2021-04-11T16:29:35.613809Z",
     "shell.execute_reply": "2021-04-11T16:29:35.614349Z"
    },
    "papermill": {
     "duration": 0.07678,
     "end_time": "2021-04-11T16:29:35.614539",
     "exception": false,
     "start_time": "2021-04-11T16:29:35.537759",
     "status": "completed"
    },
    "tags": []
   },
   "outputs": [
    {
     "data": {
      "text/html": [
       "<div>\n",
       "<style scoped>\n",
       "    .dataframe tbody tr th:only-of-type {\n",
       "        vertical-align: middle;\n",
       "    }\n",
       "\n",
       "    .dataframe tbody tr th {\n",
       "        vertical-align: top;\n",
       "    }\n",
       "\n",
       "    .dataframe thead th {\n",
       "        text-align: right;\n",
       "    }\n",
       "</style>\n",
       "<table border=\"1\" class=\"dataframe\">\n",
       "  <thead>\n",
       "    <tr style=\"text-align: right;\">\n",
       "      <th></th>\n",
       "      <th>gender</th>\n",
       "      <th>race/ethnicity</th>\n",
       "      <th>parental level of education</th>\n",
       "      <th>lunch</th>\n",
       "      <th>test preparation course</th>\n",
       "      <th>math score</th>\n",
       "      <th>reading score</th>\n",
       "      <th>writing score</th>\n",
       "    </tr>\n",
       "  </thead>\n",
       "  <tbody>\n",
       "    <tr>\n",
       "      <th>0</th>\n",
       "      <td>female</td>\n",
       "      <td>group B</td>\n",
       "      <td>bachelor's degree</td>\n",
       "      <td>standard</td>\n",
       "      <td>none</td>\n",
       "      <td>72</td>\n",
       "      <td>72</td>\n",
       "      <td>74</td>\n",
       "    </tr>\n",
       "    <tr>\n",
       "      <th>1</th>\n",
       "      <td>female</td>\n",
       "      <td>group C</td>\n",
       "      <td>some college</td>\n",
       "      <td>standard</td>\n",
       "      <td>completed</td>\n",
       "      <td>69</td>\n",
       "      <td>90</td>\n",
       "      <td>88</td>\n",
       "    </tr>\n",
       "    <tr>\n",
       "      <th>2</th>\n",
       "      <td>female</td>\n",
       "      <td>group B</td>\n",
       "      <td>master's degree</td>\n",
       "      <td>standard</td>\n",
       "      <td>none</td>\n",
       "      <td>90</td>\n",
       "      <td>95</td>\n",
       "      <td>93</td>\n",
       "    </tr>\n",
       "    <tr>\n",
       "      <th>3</th>\n",
       "      <td>male</td>\n",
       "      <td>group A</td>\n",
       "      <td>associate's degree</td>\n",
       "      <td>free/reduced</td>\n",
       "      <td>none</td>\n",
       "      <td>47</td>\n",
       "      <td>57</td>\n",
       "      <td>44</td>\n",
       "    </tr>\n",
       "    <tr>\n",
       "      <th>4</th>\n",
       "      <td>male</td>\n",
       "      <td>group C</td>\n",
       "      <td>some college</td>\n",
       "      <td>standard</td>\n",
       "      <td>none</td>\n",
       "      <td>76</td>\n",
       "      <td>78</td>\n",
       "      <td>75</td>\n",
       "    </tr>\n",
       "  </tbody>\n",
       "</table>\n",
       "</div>"
      ],
      "text/plain": [
       "   gender race/ethnicity parental level of education         lunch  \\\n",
       "0  female        group B           bachelor's degree      standard   \n",
       "1  female        group C                some college      standard   \n",
       "2  female        group B             master's degree      standard   \n",
       "3    male        group A          associate's degree  free/reduced   \n",
       "4    male        group C                some college      standard   \n",
       "\n",
       "  test preparation course  math score  reading score  writing score  \n",
       "0                    none          72             72             74  \n",
       "1               completed          69             90             88  \n",
       "2                    none          90             95             93  \n",
       "3                    none          47             57             44  \n",
       "4                    none          76             78             75  "
      ]
     },
     "execution_count": 2,
     "metadata": {},
     "output_type": "execute_result"
    }
   ],
   "source": [
    "data = pd.read_csv(\"/kaggle/input/students-performance-in-exams/StudentsPerformance.csv\")\n",
    "data.head()"
   ]
  },
  {
   "cell_type": "code",
   "execution_count": 3,
   "id": "industrial-limit",
   "metadata": {
    "execution": {
     "iopub.execute_input": "2021-04-11T16:29:35.664317Z",
     "iopub.status.busy": "2021-04-11T16:29:35.663333Z",
     "iopub.status.idle": "2021-04-11T16:29:35.667499Z",
     "shell.execute_reply": "2021-04-11T16:29:35.667995Z"
    },
    "papermill": {
     "duration": 0.030703,
     "end_time": "2021-04-11T16:29:35.668180",
     "exception": false,
     "start_time": "2021-04-11T16:29:35.637477",
     "status": "completed"
    },
    "tags": []
   },
   "outputs": [],
   "source": [
    "#data.columns"
   ]
  },
  {
   "cell_type": "code",
   "execution_count": 4,
   "id": "bizarre-tablet",
   "metadata": {
    "execution": {
     "iopub.execute_input": "2021-04-11T16:29:35.718931Z",
     "iopub.status.busy": "2021-04-11T16:29:35.717931Z",
     "iopub.status.idle": "2021-04-11T16:29:35.746753Z",
     "shell.execute_reply": "2021-04-11T16:29:35.746153Z"
    },
    "papermill": {
     "duration": 0.056005,
     "end_time": "2021-04-11T16:29:35.746948",
     "exception": false,
     "start_time": "2021-04-11T16:29:35.690943",
     "status": "completed"
    },
    "tags": []
   },
   "outputs": [],
   "source": [
    "data[\"mean_scores\"] = (data[\"math score\"] + data[\"reading score\"] + data[\"writing score\"]) / 3"
   ]
  },
  {
   "cell_type": "code",
   "execution_count": 5,
   "id": "outdoor-cassette",
   "metadata": {
    "_kg_hide-input": true,
    "execution": {
     "iopub.execute_input": "2021-04-11T16:29:35.815281Z",
     "iopub.status.busy": "2021-04-11T16:29:35.814261Z",
     "iopub.status.idle": "2021-04-11T16:29:35.818873Z",
     "shell.execute_reply": "2021-04-11T16:29:35.818073Z"
    },
    "papermill": {
     "duration": 0.048636,
     "end_time": "2021-04-11T16:29:35.819041",
     "exception": false,
     "start_time": "2021-04-11T16:29:35.770405",
     "status": "completed"
    },
    "tags": []
   },
   "outputs": [
    {
     "name": "stdout",
     "output_type": "stream",
     "text": [
      "<class 'pandas.core.frame.DataFrame'>\n",
      "RangeIndex: 1000 entries, 0 to 999\n",
      "Data columns (total 9 columns):\n",
      " #   Column                       Non-Null Count  Dtype  \n",
      "---  ------                       --------------  -----  \n",
      " 0   gender                       1000 non-null   object \n",
      " 1   race/ethnicity               1000 non-null   object \n",
      " 2   parental level of education  1000 non-null   object \n",
      " 3   lunch                        1000 non-null   object \n",
      " 4   test preparation course      1000 non-null   object \n",
      " 5   math score                   1000 non-null   int64  \n",
      " 6   reading score                1000 non-null   int64  \n",
      " 7   writing score                1000 non-null   int64  \n",
      " 8   mean_scores                  1000 non-null   float64\n",
      "dtypes: float64(1), int64(3), object(5)\n",
      "memory usage: 70.4+ KB\n"
     ]
    }
   ],
   "source": [
    "# There is no missing value so I want to look statistical information with describe()\n",
    "data.info()"
   ]
  },
  {
   "cell_type": "code",
   "execution_count": 6,
   "id": "taken-planet",
   "metadata": {
    "execution": {
     "iopub.execute_input": "2021-04-11T16:29:35.874352Z",
     "iopub.status.busy": "2021-04-11T16:29:35.871384Z",
     "iopub.status.idle": "2021-04-11T16:29:35.901379Z",
     "shell.execute_reply": "2021-04-11T16:29:35.900711Z"
    },
    "papermill": {
     "duration": 0.058725,
     "end_time": "2021-04-11T16:29:35.901523",
     "exception": false,
     "start_time": "2021-04-11T16:29:35.842798",
     "status": "completed"
    },
    "tags": []
   },
   "outputs": [
    {
     "data": {
      "text/html": [
       "<div>\n",
       "<style scoped>\n",
       "    .dataframe tbody tr th:only-of-type {\n",
       "        vertical-align: middle;\n",
       "    }\n",
       "\n",
       "    .dataframe tbody tr th {\n",
       "        vertical-align: top;\n",
       "    }\n",
       "\n",
       "    .dataframe thead th {\n",
       "        text-align: right;\n",
       "    }\n",
       "</style>\n",
       "<table border=\"1\" class=\"dataframe\">\n",
       "  <thead>\n",
       "    <tr style=\"text-align: right;\">\n",
       "      <th></th>\n",
       "      <th>count</th>\n",
       "      <th>mean</th>\n",
       "      <th>std</th>\n",
       "      <th>min</th>\n",
       "      <th>25%</th>\n",
       "      <th>50%</th>\n",
       "      <th>75%</th>\n",
       "      <th>max</th>\n",
       "    </tr>\n",
       "  </thead>\n",
       "  <tbody>\n",
       "    <tr>\n",
       "      <th>math score</th>\n",
       "      <td>1000.0</td>\n",
       "      <td>66.089000</td>\n",
       "      <td>15.163080</td>\n",
       "      <td>0.0</td>\n",
       "      <td>57.000000</td>\n",
       "      <td>66.000000</td>\n",
       "      <td>77.000000</td>\n",
       "      <td>100.0</td>\n",
       "    </tr>\n",
       "    <tr>\n",
       "      <th>reading score</th>\n",
       "      <td>1000.0</td>\n",
       "      <td>69.169000</td>\n",
       "      <td>14.600192</td>\n",
       "      <td>17.0</td>\n",
       "      <td>59.000000</td>\n",
       "      <td>70.000000</td>\n",
       "      <td>79.000000</td>\n",
       "      <td>100.0</td>\n",
       "    </tr>\n",
       "    <tr>\n",
       "      <th>writing score</th>\n",
       "      <td>1000.0</td>\n",
       "      <td>68.054000</td>\n",
       "      <td>15.195657</td>\n",
       "      <td>10.0</td>\n",
       "      <td>57.750000</td>\n",
       "      <td>69.000000</td>\n",
       "      <td>79.000000</td>\n",
       "      <td>100.0</td>\n",
       "    </tr>\n",
       "    <tr>\n",
       "      <th>mean_scores</th>\n",
       "      <td>1000.0</td>\n",
       "      <td>67.770667</td>\n",
       "      <td>14.257326</td>\n",
       "      <td>9.0</td>\n",
       "      <td>58.333333</td>\n",
       "      <td>68.333333</td>\n",
       "      <td>77.666667</td>\n",
       "      <td>100.0</td>\n",
       "    </tr>\n",
       "  </tbody>\n",
       "</table>\n",
       "</div>"
      ],
      "text/plain": [
       "                count       mean        std   min        25%        50%  \\\n",
       "math score     1000.0  66.089000  15.163080   0.0  57.000000  66.000000   \n",
       "reading score  1000.0  69.169000  14.600192  17.0  59.000000  70.000000   \n",
       "writing score  1000.0  68.054000  15.195657  10.0  57.750000  69.000000   \n",
       "mean_scores    1000.0  67.770667  14.257326   9.0  58.333333  68.333333   \n",
       "\n",
       "                     75%    max  \n",
       "math score     77.000000  100.0  \n",
       "reading score  79.000000  100.0  \n",
       "writing score  79.000000  100.0  \n",
       "mean_scores    77.666667  100.0  "
      ]
     },
     "execution_count": 6,
     "metadata": {},
     "output_type": "execute_result"
    }
   ],
   "source": [
    "data.describe().T\n",
    "# data is distributed as normally but,\n",
    "# math score has 0 point cause math is harder than other all the time.\n",
    "# when I look the data, I can see min exam_score is 27.\n",
    "# Values of mean and 50% is so close."
   ]
  },
  {
   "cell_type": "code",
   "execution_count": 7,
   "id": "lightweight-secret",
   "metadata": {
    "execution": {
     "iopub.execute_input": "2021-04-11T16:29:35.957399Z",
     "iopub.status.busy": "2021-04-11T16:29:35.956685Z",
     "iopub.status.idle": "2021-04-11T16:29:35.967257Z",
     "shell.execute_reply": "2021-04-11T16:29:35.966694Z"
    },
    "papermill": {
     "duration": 0.041369,
     "end_time": "2021-04-11T16:29:35.967406",
     "exception": false,
     "start_time": "2021-04-11T16:29:35.926037",
     "status": "completed"
    },
    "tags": []
   },
   "outputs": [
    {
     "data": {
      "text/html": [
       "<div>\n",
       "<style scoped>\n",
       "    .dataframe tbody tr th:only-of-type {\n",
       "        vertical-align: middle;\n",
       "    }\n",
       "\n",
       "    .dataframe tbody tr th {\n",
       "        vertical-align: top;\n",
       "    }\n",
       "\n",
       "    .dataframe thead th {\n",
       "        text-align: right;\n",
       "    }\n",
       "</style>\n",
       "<table border=\"1\" class=\"dataframe\">\n",
       "  <thead>\n",
       "    <tr style=\"text-align: right;\">\n",
       "      <th></th>\n",
       "      <th>math score</th>\n",
       "      <th>reading score</th>\n",
       "      <th>writing score</th>\n",
       "      <th>mean_scores</th>\n",
       "    </tr>\n",
       "  </thead>\n",
       "  <tbody>\n",
       "    <tr>\n",
       "      <th>math score</th>\n",
       "      <td>1.000000</td>\n",
       "      <td>0.817580</td>\n",
       "      <td>0.802642</td>\n",
       "      <td>0.918746</td>\n",
       "    </tr>\n",
       "    <tr>\n",
       "      <th>reading score</th>\n",
       "      <td>0.817580</td>\n",
       "      <td>1.000000</td>\n",
       "      <td>0.954598</td>\n",
       "      <td>0.970331</td>\n",
       "    </tr>\n",
       "    <tr>\n",
       "      <th>writing score</th>\n",
       "      <td>0.802642</td>\n",
       "      <td>0.954598</td>\n",
       "      <td>1.000000</td>\n",
       "      <td>0.965667</td>\n",
       "    </tr>\n",
       "    <tr>\n",
       "      <th>mean_scores</th>\n",
       "      <td>0.918746</td>\n",
       "      <td>0.970331</td>\n",
       "      <td>0.965667</td>\n",
       "      <td>1.000000</td>\n",
       "    </tr>\n",
       "  </tbody>\n",
       "</table>\n",
       "</div>"
      ],
      "text/plain": [
       "               math score  reading score  writing score  mean_scores\n",
       "math score       1.000000       0.817580       0.802642     0.918746\n",
       "reading score    0.817580       1.000000       0.954598     0.970331\n",
       "writing score    0.802642       0.954598       1.000000     0.965667\n",
       "mean_scores      0.918746       0.970331       0.965667     1.000000"
      ]
     },
     "execution_count": 7,
     "metadata": {},
     "output_type": "execute_result"
    }
   ],
   "source": [
    "data.corr()\n",
    "# I want to look before I do get_dummies"
   ]
  },
  {
   "cell_type": "code",
   "execution_count": 8,
   "id": "adverse-witness",
   "metadata": {
    "execution": {
     "iopub.execute_input": "2021-04-11T16:29:36.024077Z",
     "iopub.status.busy": "2021-04-11T16:29:36.023340Z",
     "iopub.status.idle": "2021-04-11T16:29:36.816344Z",
     "shell.execute_reply": "2021-04-11T16:29:36.816895Z"
    },
    "papermill": {
     "duration": 0.824515,
     "end_time": "2021-04-11T16:29:36.817085",
     "exception": false,
     "start_time": "2021-04-11T16:29:35.992570",
     "status": "completed"
    },
    "tags": []
   },
   "outputs": [
    {
     "data": {
      "image/png": "[encoded data removed]",
      "text/plain": [
       "<Figure size 432x288 with 1 Axes>"
      ]
     },
     "metadata": {
      "needs_background": "light"
     },
     "output_type": "display_data"
    },
    {
     "data": {
      "image/png": "[encoded data removed]",
      "text/plain": [
       "<Figure size 432x288 with 1 Axes>"
      ]
     },
     "metadata": {
      "needs_background": "light"
     },
     "output_type": "display_data"
    }
   ],
   "source": [
    "import matplotlib.pyplot as plt\n",
    "# I did that to see histogram plot and distribution of exam_scores\n",
    "\n",
    "def histogramPlot(variable):\n",
    "    variable.plot(kind = \"hist\", density = True, bins = 15)\n",
    "    variable.plot(kind = \"kde\");\n",
    "\n",
    "if __name__=='__main__':\n",
    "    histogramPlot(data)"
   ]
  },
  {
   "cell_type": "code",
   "execution_count": 9,
   "id": "velvet-classroom",
   "metadata": {
    "execution": {
     "iopub.execute_input": "2021-04-11T16:29:36.877247Z",
     "iopub.status.busy": "2021-04-11T16:29:36.876245Z",
     "iopub.status.idle": "2021-04-11T16:29:36.895731Z",
     "shell.execute_reply": "2021-04-11T16:29:36.896216Z"
    },
    "papermill": {
     "duration": 0.051178,
     "end_time": "2021-04-11T16:29:36.896400",
     "exception": false,
     "start_time": "2021-04-11T16:29:36.845222",
     "status": "completed"
    },
    "tags": []
   },
   "outputs": [
    {
     "data": {
      "text/html": [
       "<div>\n",
       "<style scoped>\n",
       "    .dataframe tbody tr th:only-of-type {\n",
       "        vertical-align: middle;\n",
       "    }\n",
       "\n",
       "    .dataframe tbody tr th {\n",
       "        vertical-align: top;\n",
       "    }\n",
       "\n",
       "    .dataframe thead th {\n",
       "        text-align: right;\n",
       "    }\n",
       "</style>\n",
       "<table border=\"1\" class=\"dataframe\">\n",
       "  <thead>\n",
       "    <tr style=\"text-align: right;\">\n",
       "      <th></th>\n",
       "      <th>gender</th>\n",
       "      <th>race/ethnicity</th>\n",
       "      <th>parental level of education</th>\n",
       "      <th>lunch</th>\n",
       "      <th>test preparation course</th>\n",
       "      <th>math score</th>\n",
       "      <th>reading score</th>\n",
       "      <th>writing score</th>\n",
       "      <th>mean_scores</th>\n",
       "    </tr>\n",
       "  </thead>\n",
       "  <tbody>\n",
       "    <tr>\n",
       "      <th>0</th>\n",
       "      <td>female</td>\n",
       "      <td>group B</td>\n",
       "      <td>bachelor's degree</td>\n",
       "      <td>standard</td>\n",
       "      <td>none</td>\n",
       "      <td>72</td>\n",
       "      <td>72</td>\n",
       "      <td>74</td>\n",
       "      <td>72.666667</td>\n",
       "    </tr>\n",
       "    <tr>\n",
       "      <th>1</th>\n",
       "      <td>female</td>\n",
       "      <td>group C</td>\n",
       "      <td>some college</td>\n",
       "      <td>standard</td>\n",
       "      <td>completed</td>\n",
       "      <td>69</td>\n",
       "      <td>90</td>\n",
       "      <td>88</td>\n",
       "      <td>82.333333</td>\n",
       "    </tr>\n",
       "    <tr>\n",
       "      <th>2</th>\n",
       "      <td>female</td>\n",
       "      <td>group B</td>\n",
       "      <td>master's degree</td>\n",
       "      <td>standard</td>\n",
       "      <td>none</td>\n",
       "      <td>90</td>\n",
       "      <td>95</td>\n",
       "      <td>93</td>\n",
       "      <td>92.666667</td>\n",
       "    </tr>\n",
       "    <tr>\n",
       "      <th>3</th>\n",
       "      <td>male</td>\n",
       "      <td>group A</td>\n",
       "      <td>associate's degree</td>\n",
       "      <td>free/reduced</td>\n",
       "      <td>none</td>\n",
       "      <td>47</td>\n",
       "      <td>57</td>\n",
       "      <td>44</td>\n",
       "      <td>49.333333</td>\n",
       "    </tr>\n",
       "    <tr>\n",
       "      <th>4</th>\n",
       "      <td>male</td>\n",
       "      <td>group C</td>\n",
       "      <td>some college</td>\n",
       "      <td>standard</td>\n",
       "      <td>none</td>\n",
       "      <td>76</td>\n",
       "      <td>78</td>\n",
       "      <td>75</td>\n",
       "      <td>76.333333</td>\n",
       "    </tr>\n",
       "    <tr>\n",
       "      <th>...</th>\n",
       "      <td>...</td>\n",
       "      <td>...</td>\n",
       "      <td>...</td>\n",
       "      <td>...</td>\n",
       "      <td>...</td>\n",
       "      <td>...</td>\n",
       "      <td>...</td>\n",
       "      <td>...</td>\n",
       "      <td>...</td>\n",
       "    </tr>\n",
       "    <tr>\n",
       "      <th>995</th>\n",
       "      <td>female</td>\n",
       "      <td>group E</td>\n",
       "      <td>master's degree</td>\n",
       "      <td>standard</td>\n",
       "      <td>completed</td>\n",
       "      <td>88</td>\n",
       "      <td>99</td>\n",
       "      <td>95</td>\n",
       "      <td>94.000000</td>\n",
       "    </tr>\n",
       "    <tr>\n",
       "      <th>996</th>\n",
       "      <td>male</td>\n",
       "      <td>group C</td>\n",
       "      <td>high school</td>\n",
       "      <td>free/reduced</td>\n",
       "      <td>none</td>\n",
       "      <td>62</td>\n",
       "      <td>55</td>\n",
       "      <td>55</td>\n",
       "      <td>57.333333</td>\n",
       "    </tr>\n",
       "    <tr>\n",
       "      <th>997</th>\n",
       "      <td>female</td>\n",
       "      <td>group C</td>\n",
       "      <td>high school</td>\n",
       "      <td>free/reduced</td>\n",
       "      <td>completed</td>\n",
       "      <td>59</td>\n",
       "      <td>71</td>\n",
       "      <td>65</td>\n",
       "      <td>65.000000</td>\n",
       "    </tr>\n",
       "    <tr>\n",
       "      <th>998</th>\n",
       "      <td>female</td>\n",
       "      <td>group D</td>\n",
       "      <td>some college</td>\n",
       "      <td>standard</td>\n",
       "      <td>completed</td>\n",
       "      <td>68</td>\n",
       "      <td>78</td>\n",
       "      <td>77</td>\n",
       "      <td>74.333333</td>\n",
       "    </tr>\n",
       "    <tr>\n",
       "      <th>999</th>\n",
       "      <td>female</td>\n",
       "      <td>group D</td>\n",
       "      <td>some college</td>\n",
       "      <td>free/reduced</td>\n",
       "      <td>none</td>\n",
       "      <td>77</td>\n",
       "      <td>86</td>\n",
       "      <td>86</td>\n",
       "      <td>83.000000</td>\n",
       "    </tr>\n",
       "  </tbody>\n",
       "</table>\n",
       "<p>1000 rows × 9 columns</p>\n",
       "</div>"
      ],
      "text/plain": [
       "     gender race/ethnicity parental level of education         lunch  \\\n",
       "0    female        group B           bachelor's degree      standard   \n",
       "1    female        group C                some college      standard   \n",
       "2    female        group B             master's degree      standard   \n",
       "3      male        group A          associate's degree  free/reduced   \n",
       "4      male        group C                some college      standard   \n",
       "..      ...            ...                         ...           ...   \n",
       "995  female        group E             master's degree      standard   \n",
       "996    male        group C                 high school  free/reduced   \n",
       "997  female        group C                 high school  free/reduced   \n",
       "998  female        group D                some college      standard   \n",
       "999  female        group D                some college  free/reduced   \n",
       "\n",
       "    test preparation course  math score  reading score  writing score  \\\n",
       "0                      none          72             72             74   \n",
       "1                 completed          69             90             88   \n",
       "2                      none          90             95             93   \n",
       "3                      none          47             57             44   \n",
       "4                      none          76             78             75   \n",
       "..                      ...         ...            ...            ...   \n",
       "995               completed          88             99             95   \n",
       "996                    none          62             55             55   \n",
       "997               completed          59             71             65   \n",
       "998               completed          68             78             77   \n",
       "999                    none          77             86             86   \n",
       "\n",
       "     mean_scores  \n",
       "0      72.666667  \n",
       "1      82.333333  \n",
       "2      92.666667  \n",
       "3      49.333333  \n",
       "4      76.333333  \n",
       "..           ...  \n",
       "995    94.000000  \n",
       "996    57.333333  \n",
       "997    65.000000  \n",
       "998    74.333333  \n",
       "999    83.000000  \n",
       "\n",
       "[1000 rows x 9 columns]"
      ]
     },
     "execution_count": 9,
     "metadata": {},
     "output_type": "execute_result"
    }
   ],
   "source": [
    "data"
   ]
  },
  {
   "cell_type": "code",
   "execution_count": 10,
   "id": "liked-polls",
   "metadata": {
    "execution": {
     "iopub.execute_input": "2021-04-11T16:29:36.956975Z",
     "iopub.status.busy": "2021-04-11T16:29:36.955963Z",
     "iopub.status.idle": "2021-04-11T16:29:36.961557Z",
     "shell.execute_reply": "2021-04-11T16:29:36.962036Z"
    },
    "papermill": {
     "duration": 0.037927,
     "end_time": "2021-04-11T16:29:36.962216",
     "exception": false,
     "start_time": "2021-04-11T16:29:36.924289",
     "status": "completed"
    },
    "tags": []
   },
   "outputs": [
    {
     "data": {
      "text/plain": [
       "Index(['gender', 'race/ethnicity', 'parental level of education', 'lunch',\n",
       "       'test preparation course', 'math score', 'reading score',\n",
       "       'writing score', 'mean_scores'],\n",
       "      dtype='object')"
      ]
     },
     "execution_count": 10,
     "metadata": {},
     "output_type": "execute_result"
    }
   ],
   "source": [
    "data.columns"
   ]
  },
  {
   "cell_type": "code",
   "execution_count": 11,
   "id": "judicial-hurricane",
   "metadata": {
    "execution": {
     "iopub.execute_input": "2021-04-11T16:29:37.023756Z",
     "iopub.status.busy": "2021-04-11T16:29:37.022679Z",
     "iopub.status.idle": "2021-04-11T16:29:37.038290Z",
     "shell.execute_reply": "2021-04-11T16:29:37.038761Z"
    },
    "papermill": {
     "duration": 0.048627,
     "end_time": "2021-04-11T16:29:37.038964",
     "exception": false,
     "start_time": "2021-04-11T16:29:36.990337",
     "status": "completed"
    },
    "tags": []
   },
   "outputs": [
    {
     "data": {
      "text/plain": [
       "(some college          226\n",
       " associate's degree    222\n",
       " high school           196\n",
       " some high school      179\n",
       " bachelor's degree     118\n",
       " master's degree        59\n",
       " Name: parental level of education, dtype: int64,\n",
       "                              math score  reading score  writing score  \\\n",
       " parental level of education                                             \n",
       " associate's degree            67.882883      70.927928      69.896396   \n",
       " bachelor's degree             69.389831      73.000000      73.381356   \n",
       " high school                   62.137755      64.704082      62.448980   \n",
       " master's degree               69.745763      75.372881      75.677966   \n",
       " some college                  67.128319      69.460177      68.840708   \n",
       " some high school              63.497207      66.938547      64.888268   \n",
       " \n",
       "                              mean_scores  \n",
       " parental level of education               \n",
       " associate's degree             69.569069  \n",
       " bachelor's degree              71.923729  \n",
       " high school                    63.096939  \n",
       " master's degree                73.598870  \n",
       " some college                   68.476401  \n",
       " some high school               65.108007  )"
      ]
     },
     "execution_count": 11,
     "metadata": {},
     "output_type": "execute_result"
    }
   ],
   "source": [
    "def groupbyFunc(data, feature):\n",
    "    # The function that you can use to analyze the mean of the features you have given and their situation in the data.\n",
    "    values = data[feature].value_counts()\n",
    "    feature_analysis = data.groupby(feature).mean()\n",
    "    return values,feature_analysis    \n",
    "    \n",
    "    \n",
    "# Firstly\n",
    "groupbyFunc(data, \"parental level of education\")\n"
   ]
  },
  {
   "cell_type": "markdown",
   "id": "biological-password",
   "metadata": {
    "papermill": {
     "duration": 0.028706,
     "end_time": "2021-04-11T16:29:37.096407",
     "exception": false,
     "start_time": "2021-04-11T16:29:37.067701",
     "status": "completed"
    },
    "tags": []
   },
   "source": [
    "You can reach relationship between your feature and its values so \n",
    "- **I can say: when parents of the student were graduated the master degree and bachelor degree, students are better at lessons**"
   ]
  },
  {
   "cell_type": "code",
   "execution_count": 12,
   "id": "fresh-family",
   "metadata": {
    "execution": {
     "iopub.execute_input": "2021-04-11T16:29:37.157933Z",
     "iopub.status.busy": "2021-04-11T16:29:37.156972Z",
     "iopub.status.idle": "2021-04-11T16:29:37.169922Z",
     "shell.execute_reply": "2021-04-11T16:29:37.170382Z"
    },
    "papermill": {
     "duration": 0.045466,
     "end_time": "2021-04-11T16:29:37.170565",
     "exception": false,
     "start_time": "2021-04-11T16:29:37.125099",
     "status": "completed"
    },
    "tags": []
   },
   "outputs": [
    {
     "data": {
      "text/plain": [
       "(group C    319\n",
       " group D    262\n",
       " group B    190\n",
       " group E    140\n",
       " group A     89\n",
       " Name: race/ethnicity, dtype: int64,\n",
       "                 math score  reading score  writing score  mean_scores\n",
       " race/ethnicity                                                       \n",
       " group A          61.629213      64.674157      62.674157    62.992509\n",
       " group B          63.452632      67.352632      65.600000    65.468421\n",
       " group C          64.463950      69.103448      67.827586    67.131661\n",
       " group D          67.362595      70.030534      70.145038    69.179389\n",
       " group E          73.821429      73.028571      71.407143    72.752381)"
      ]
     },
     "execution_count": 12,
     "metadata": {},
     "output_type": "execute_result"
    }
   ],
   "source": [
    "# Secondly\n",
    "groupbyFunc(data, \"race/ethnicity\")"
   ]
  },
  {
   "cell_type": "markdown",
   "id": "imposed-calculator",
   "metadata": {
    "papermill": {
     "duration": 0.031044,
     "end_time": "2021-04-11T16:29:37.232150",
     "exception": false,
     "start_time": "2021-04-11T16:29:37.201106",
     "status": "completed"
    },
    "tags": []
   },
   "source": [
    " **I'm not racist but**\n",
    "- We can see obviously group E is the best score for all lessons and\n",
    "- Group A is the worst score "
   ]
  },
  {
   "cell_type": "code",
   "execution_count": 13,
   "id": "preliminary-coupon",
   "metadata": {
    "execution": {
     "iopub.execute_input": "2021-04-11T16:29:37.295670Z",
     "iopub.status.busy": "2021-04-11T16:29:37.294633Z",
     "iopub.status.idle": "2021-04-11T16:29:37.308530Z",
     "shell.execute_reply": "2021-04-11T16:29:37.307854Z"
    },
    "papermill": {
     "duration": 0.046779,
     "end_time": "2021-04-11T16:29:37.308675",
     "exception": false,
     "start_time": "2021-04-11T16:29:37.261896",
     "status": "completed"
    },
    "tags": []
   },
   "outputs": [
    {
     "data": {
      "text/plain": [
       "(female    518\n",
       " male      482\n",
       " Name: gender, dtype: int64,\n",
       "         math score  reading score  writing score  mean_scores\n",
       " gender                                                       \n",
       " female   63.633205      72.608108      72.467181    69.569498\n",
       " male     68.728216      65.473029      63.311203    65.837483)"
      ]
     },
     "execution_count": 13,
     "metadata": {},
     "output_type": "execute_result"
    }
   ],
   "source": [
    "# Lastly\n",
    "groupbyFunc(data, \"gender\")"
   ]
  },
  {
   "cell_type": "markdown",
   "id": "visible-radius",
   "metadata": {
    "papermill": {
     "duration": 0.029426,
     "end_time": "2021-04-11T16:29:37.368336",
     "exception": false,
     "start_time": "2021-04-11T16:29:37.338910",
     "status": "completed"
    },
    "tags": []
   },
   "source": [
    "Lesson by lesson analysis is :\n",
    "\n",
    "- **When the result of math score of males is better than females.**\n",
    "- **The result of reading and writing score of females is better than males so**\n",
    "- **Females are more successful than males.**"
   ]
  },
  {
   "cell_type": "code",
   "execution_count": 14,
   "id": "patient-pizza",
   "metadata": {
    "execution": {
     "iopub.execute_input": "2021-04-11T16:29:37.431849Z",
     "iopub.status.busy": "2021-04-11T16:29:37.431159Z",
     "iopub.status.idle": "2021-04-11T16:29:37.850725Z",
     "shell.execute_reply": "2021-04-11T16:29:37.849990Z"
    },
    "papermill": {
     "duration": 0.452859,
     "end_time": "2021-04-11T16:29:37.850897",
     "exception": false,
     "start_time": "2021-04-11T16:29:37.398038",
     "status": "completed"
    },
    "tags": []
   },
   "outputs": [
    {
     "data": {
      "image/png": "[encoded data removed]",
      "text/plain": [
       "<Figure size 432x288 with 1 Axes>"
      ]
     },
     "metadata": {
      "needs_background": "light"
     },
     "output_type": "display_data"
    },
    {
     "data": {
      "image/png": "[encoded data removed]",
      "text/plain": [
       "<Figure size 432x288 with 1 Axes>"
      ]
     },
     "metadata": {
      "needs_background": "light"
     },
     "output_type": "display_data"
    },
    {
     "data": {
      "image/png": "[encoded data removed]",
      "text/plain": [
       "<Figure size 432x288 with 1 Axes>"
      ]
     },
     "metadata": {
      "needs_background": "light"
     },
     "output_type": "display_data"
    },
    {
     "data": {
      "image/png": "[encoded data removed]",
      "text/plain": [
       "<Figure size 432x288 with 1 Axes>"
      ]
     },
     "metadata": {
      "needs_background": "light"
     },
     "output_type": "display_data"
    }
   ],
   "source": [
    "# I have to drop values of outlier scores to take a better rmse value.\n",
    "sns.boxplot( y = data[\"math score\"])\n",
    "plt.show()\n",
    "\n",
    "sns.boxplot(y = data[\"reading score\"] )\n",
    "plt.show()\n",
    "\n",
    "\n",
    "sns.boxplot(y = data[\"writing score\"])\n",
    "plt.show()\n",
    "\n",
    "sns.boxplot(y = data[\"mean_scores\"])\n",
    "plt.show()\n"
   ]
  },
  {
   "cell_type": "code",
   "execution_count": 15,
   "id": "incomplete-teacher",
   "metadata": {
    "execution": {
     "iopub.execute_input": "2021-04-11T16:29:37.927284Z",
     "iopub.status.busy": "2021-04-11T16:29:37.924017Z",
     "iopub.status.idle": "2021-04-11T16:29:37.935543Z",
     "shell.execute_reply": "2021-04-11T16:29:37.934560Z"
    },
    "papermill": {
     "duration": 0.052386,
     "end_time": "2021-04-11T16:29:37.935747",
     "exception": false,
     "start_time": "2021-04-11T16:29:37.883361",
     "status": "completed"
    },
    "tags": []
   },
   "outputs": [
    {
     "name": "stdout",
     "output_type": "stream",
     "text": [
      "900/1000 data points remain.\n"
     ]
    }
   ],
   "source": [
    "def drop_outliers(df,column_name,lower,upper):\n",
    "    drop_outliers = df[column_name].between(df[column_name].quantile(lower), df[column_name].quantile(upper))\n",
    "    \n",
    "    print(str(df[column_name][drop_outliers].size) + \"/\" + str(df[column_name].size) + \" data points remain.\") \n",
    "\n",
    "    index_names = df[~drop_outliers].index\n",
    "    return df.drop(index_names)\n",
    "\n",
    "\n",
    "new_data = drop_outliers(data,\"mean_scores\",0.05,0.95) "
   ]
  },
  {
   "cell_type": "markdown",
   "id": "entitled-generic",
   "metadata": {
    "papermill": {
     "duration": 0.033577,
     "end_time": "2021-04-11T16:29:38.002979",
     "exception": false,
     "start_time": "2021-04-11T16:29:37.969402",
     "status": "completed"
    },
    "tags": []
   },
   "source": [
    "**I dropped outlier values from mean scores before I prepare data that to model and get_dummies function**"
   ]
  },
  {
   "cell_type": "code",
   "execution_count": 16,
   "id": "decimal-context",
   "metadata": {
    "execution": {
     "iopub.execute_input": "2021-04-11T16:29:38.076071Z",
     "iopub.status.busy": "2021-04-11T16:29:38.075373Z",
     "iopub.status.idle": "2021-04-11T16:29:38.079854Z",
     "shell.execute_reply": "2021-04-11T16:29:38.080405Z"
    },
    "papermill": {
     "duration": 0.043747,
     "end_time": "2021-04-11T16:29:38.080587",
     "exception": false,
     "start_time": "2021-04-11T16:29:38.036840",
     "status": "completed"
    },
    "tags": []
   },
   "outputs": [
    {
     "name": "stdout",
     "output_type": "stream",
     "text": [
      "data: (1000, 9)\n",
      "new_data: (900, 9)\n"
     ]
    }
   ],
   "source": [
    "print(\"data:\",data.shape)\n",
    "print(\"new_data:\", new_data.shape)"
   ]
  },
  {
   "cell_type": "code",
   "execution_count": 17,
   "id": "solid-belarus",
   "metadata": {
    "execution": {
     "iopub.execute_input": "2021-04-11T16:29:38.157859Z",
     "iopub.status.busy": "2021-04-11T16:29:38.156752Z",
     "iopub.status.idle": "2021-04-11T16:29:38.159878Z",
     "shell.execute_reply": "2021-04-11T16:29:38.160430Z"
    },
    "papermill": {
     "duration": 0.045596,
     "end_time": "2021-04-11T16:29:38.160613",
     "exception": false,
     "start_time": "2021-04-11T16:29:38.115017",
     "status": "completed"
    },
    "tags": []
   },
   "outputs": [],
   "source": [
    "math_score = new_data[\"math score\"]\n",
    "reading_score = new_data[\"reading score\"]\n",
    "writing_score = new_data[\"writing score\"]\n",
    "mean_score = new_data[\"mean_scores\"]\n",
    "X_features = new_data.drop([\"math score\",\"reading score\",\"writing score\",\"mean_scores\"],axis = 'columns') "
   ]
  },
  {
   "cell_type": "markdown",
   "id": "reserved-gather",
   "metadata": {
    "papermill": {
     "duration": 0.034262,
     "end_time": "2021-04-11T16:29:38.229560",
     "exception": false,
     "start_time": "2021-04-11T16:29:38.195298",
     "status": "completed"
    },
    "tags": []
   },
   "source": [
    "**My target value is mean_score so I seperated the data.**"
   ]
  },
  {
   "cell_type": "markdown",
   "id": "civilian-hurricane",
   "metadata": {
    "papermill": {
     "duration": 0.033393,
     "end_time": "2021-04-11T16:29:38.296339",
     "exception": false,
     "start_time": "2021-04-11T16:29:38.262946",
     "status": "completed"
    },
    "tags": []
   },
   "source": [
    "# Get Dummy Function"
   ]
  },
  {
   "cell_type": "code",
   "execution_count": 18,
   "id": "understood-belgium",
   "metadata": {
    "execution": {
     "iopub.execute_input": "2021-04-11T16:29:38.379844Z",
     "iopub.status.busy": "2021-04-11T16:29:38.378864Z",
     "iopub.status.idle": "2021-04-11T16:29:38.384667Z",
     "shell.execute_reply": "2021-04-11T16:29:38.384044Z"
    },
    "papermill": {
     "duration": 0.055152,
     "end_time": "2021-04-11T16:29:38.384833",
     "exception": false,
     "start_time": "2021-04-11T16:29:38.329681",
     "status": "completed"
    },
    "tags": []
   },
   "outputs": [
    {
     "data": {
      "text/html": [
       "<div>\n",
       "<style scoped>\n",
       "    .dataframe tbody tr th:only-of-type {\n",
       "        vertical-align: middle;\n",
       "    }\n",
       "\n",
       "    .dataframe tbody tr th {\n",
       "        vertical-align: top;\n",
       "    }\n",
       "\n",
       "    .dataframe thead th {\n",
       "        text-align: right;\n",
       "    }\n",
       "</style>\n",
       "<table border=\"1\" class=\"dataframe\">\n",
       "  <thead>\n",
       "    <tr style=\"text-align: right;\">\n",
       "      <th></th>\n",
       "      <th>gender</th>\n",
       "      <th>race/ethnicity</th>\n",
       "      <th>parental level of education</th>\n",
       "      <th>lunch</th>\n",
       "      <th>test preparation course</th>\n",
       "    </tr>\n",
       "  </thead>\n",
       "  <tbody>\n",
       "    <tr>\n",
       "      <th>0</th>\n",
       "      <td>female</td>\n",
       "      <td>group B</td>\n",
       "      <td>bachelor's degree</td>\n",
       "      <td>standard</td>\n",
       "      <td>none</td>\n",
       "    </tr>\n",
       "    <tr>\n",
       "      <th>1</th>\n",
       "      <td>female</td>\n",
       "      <td>group C</td>\n",
       "      <td>some college</td>\n",
       "      <td>standard</td>\n",
       "      <td>completed</td>\n",
       "    </tr>\n",
       "    <tr>\n",
       "      <th>3</th>\n",
       "      <td>male</td>\n",
       "      <td>group A</td>\n",
       "      <td>associate's degree</td>\n",
       "      <td>free/reduced</td>\n",
       "      <td>none</td>\n",
       "    </tr>\n",
       "    <tr>\n",
       "      <th>4</th>\n",
       "      <td>male</td>\n",
       "      <td>group C</td>\n",
       "      <td>some college</td>\n",
       "      <td>standard</td>\n",
       "      <td>none</td>\n",
       "    </tr>\n",
       "    <tr>\n",
       "      <th>5</th>\n",
       "      <td>female</td>\n",
       "      <td>group B</td>\n",
       "      <td>associate's degree</td>\n",
       "      <td>standard</td>\n",
       "      <td>none</td>\n",
       "    </tr>\n",
       "    <tr>\n",
       "      <th>...</th>\n",
       "      <td>...</td>\n",
       "      <td>...</td>\n",
       "      <td>...</td>\n",
       "      <td>...</td>\n",
       "      <td>...</td>\n",
       "    </tr>\n",
       "    <tr>\n",
       "      <th>994</th>\n",
       "      <td>male</td>\n",
       "      <td>group A</td>\n",
       "      <td>high school</td>\n",
       "      <td>standard</td>\n",
       "      <td>none</td>\n",
       "    </tr>\n",
       "    <tr>\n",
       "      <th>996</th>\n",
       "      <td>male</td>\n",
       "      <td>group C</td>\n",
       "      <td>high school</td>\n",
       "      <td>free/reduced</td>\n",
       "      <td>none</td>\n",
       "    </tr>\n",
       "    <tr>\n",
       "      <th>997</th>\n",
       "      <td>female</td>\n",
       "      <td>group C</td>\n",
       "      <td>high school</td>\n",
       "      <td>free/reduced</td>\n",
       "      <td>completed</td>\n",
       "    </tr>\n",
       "    <tr>\n",
       "      <th>998</th>\n",
       "      <td>female</td>\n",
       "      <td>group D</td>\n",
       "      <td>some college</td>\n",
       "      <td>standard</td>\n",
       "      <td>completed</td>\n",
       "    </tr>\n",
       "    <tr>\n",
       "      <th>999</th>\n",
       "      <td>female</td>\n",
       "      <td>group D</td>\n",
       "      <td>some college</td>\n",
       "      <td>free/reduced</td>\n",
       "      <td>none</td>\n",
       "    </tr>\n",
       "  </tbody>\n",
       "</table>\n",
       "<p>900 rows × 5 columns</p>\n",
       "</div>"
      ],
      "text/plain": [
       "     gender race/ethnicity parental level of education         lunch  \\\n",
       "0    female        group B           bachelor's degree      standard   \n",
       "1    female        group C                some college      standard   \n",
       "3      male        group A          associate's degree  free/reduced   \n",
       "4      male        group C                some college      standard   \n",
       "5    female        group B          associate's degree      standard   \n",
       "..      ...            ...                         ...           ...   \n",
       "994    male        group A                 high school      standard   \n",
       "996    male        group C                 high school  free/reduced   \n",
       "997  female        group C                 high school  free/reduced   \n",
       "998  female        group D                some college      standard   \n",
       "999  female        group D                some college  free/reduced   \n",
       "\n",
       "    test preparation course  \n",
       "0                      none  \n",
       "1                 completed  \n",
       "3                      none  \n",
       "4                      none  \n",
       "5                      none  \n",
       "..                      ...  \n",
       "994                    none  \n",
       "996                    none  \n",
       "997               completed  \n",
       "998               completed  \n",
       "999                    none  \n",
       "\n",
       "[900 rows x 5 columns]"
      ]
     },
     "execution_count": 18,
     "metadata": {},
     "output_type": "execute_result"
    }
   ],
   "source": [
    "X_features"
   ]
  },
  {
   "cell_type": "code",
   "execution_count": 19,
   "id": "positive-guitar",
   "metadata": {
    "execution": {
     "iopub.execute_input": "2021-04-11T16:29:38.478760Z",
     "iopub.status.busy": "2021-04-11T16:29:38.462992Z",
     "iopub.status.idle": "2021-04-11T16:29:38.497053Z",
     "shell.execute_reply": "2021-04-11T16:29:38.496450Z"
    },
    "papermill": {
     "duration": 0.077711,
     "end_time": "2021-04-11T16:29:38.497207",
     "exception": false,
     "start_time": "2021-04-11T16:29:38.419496",
     "status": "completed"
    },
    "tags": []
   },
   "outputs": [
    {
     "data": {
      "text/html": [
       "<div>\n",
       "<style scoped>\n",
       "    .dataframe tbody tr th:only-of-type {\n",
       "        vertical-align: middle;\n",
       "    }\n",
       "\n",
       "    .dataframe tbody tr th {\n",
       "        vertical-align: top;\n",
       "    }\n",
       "\n",
       "    .dataframe thead th {\n",
       "        text-align: right;\n",
       "    }\n",
       "</style>\n",
       "<table border=\"1\" class=\"dataframe\">\n",
       "  <thead>\n",
       "    <tr style=\"text-align: right;\">\n",
       "      <th></th>\n",
       "      <th>gender_male</th>\n",
       "      <th>race/ethnicity_group B</th>\n",
       "      <th>race/ethnicity_group C</th>\n",
       "      <th>race/ethnicity_group D</th>\n",
       "      <th>race/ethnicity_group E</th>\n",
       "      <th>parental level of education_bachelor's degree</th>\n",
       "      <th>parental level of education_high school</th>\n",
       "      <th>parental level of education_master's degree</th>\n",
       "      <th>parental level of education_some college</th>\n",
       "      <th>parental level of education_some high school</th>\n",
       "      <th>lunch_standard</th>\n",
       "      <th>test preparation course_none</th>\n",
       "    </tr>\n",
       "  </thead>\n",
       "  <tbody>\n",
       "    <tr>\n",
       "      <th>0</th>\n",
       "      <td>0</td>\n",
       "      <td>1</td>\n",
       "      <td>0</td>\n",
       "      <td>0</td>\n",
       "      <td>0</td>\n",
       "      <td>1</td>\n",
       "      <td>0</td>\n",
       "      <td>0</td>\n",
       "      <td>0</td>\n",
       "      <td>0</td>\n",
       "      <td>1</td>\n",
       "      <td>1</td>\n",
       "    </tr>\n",
       "    <tr>\n",
       "      <th>1</th>\n",
       "      <td>0</td>\n",
       "      <td>0</td>\n",
       "      <td>1</td>\n",
       "      <td>0</td>\n",
       "      <td>0</td>\n",
       "      <td>0</td>\n",
       "      <td>0</td>\n",
       "      <td>0</td>\n",
       "      <td>1</td>\n",
       "      <td>0</td>\n",
       "      <td>1</td>\n",
       "      <td>0</td>\n",
       "    </tr>\n",
       "    <tr>\n",
       "      <th>3</th>\n",
       "      <td>1</td>\n",
       "      <td>0</td>\n",
       "      <td>0</td>\n",
       "      <td>0</td>\n",
       "      <td>0</td>\n",
       "      <td>0</td>\n",
       "      <td>0</td>\n",
       "      <td>0</td>\n",
       "      <td>0</td>\n",
       "      <td>0</td>\n",
       "      <td>0</td>\n",
       "      <td>1</td>\n",
       "    </tr>\n",
       "    <tr>\n",
       "      <th>4</th>\n",
       "      <td>1</td>\n",
       "      <td>0</td>\n",
       "      <td>1</td>\n",
       "      <td>0</td>\n",
       "      <td>0</td>\n",
       "      <td>0</td>\n",
       "      <td>0</td>\n",
       "      <td>0</td>\n",
       "      <td>1</td>\n",
       "      <td>0</td>\n",
       "      <td>1</td>\n",
       "      <td>1</td>\n",
       "    </tr>\n",
       "    <tr>\n",
       "      <th>5</th>\n",
       "      <td>0</td>\n",
       "      <td>1</td>\n",
       "      <td>0</td>\n",
       "      <td>0</td>\n",
       "      <td>0</td>\n",
       "      <td>0</td>\n",
       "      <td>0</td>\n",
       "      <td>0</td>\n",
       "      <td>0</td>\n",
       "      <td>0</td>\n",
       "      <td>1</td>\n",
       "      <td>1</td>\n",
       "    </tr>\n",
       "    <tr>\n",
       "      <th>...</th>\n",
       "      <td>...</td>\n",
       "      <td>...</td>\n",
       "      <td>...</td>\n",
       "      <td>...</td>\n",
       "      <td>...</td>\n",
       "      <td>...</td>\n",
       "      <td>...</td>\n",
       "      <td>...</td>\n",
       "      <td>...</td>\n",
       "      <td>...</td>\n",
       "      <td>...</td>\n",
       "      <td>...</td>\n",
       "    </tr>\n",
       "    <tr>\n",
       "      <th>994</th>\n",
       "      <td>1</td>\n",
       "      <td>0</td>\n",
       "      <td>0</td>\n",
       "      <td>0</td>\n",
       "      <td>0</td>\n",
       "      <td>0</td>\n",
       "      <td>1</td>\n",
       "      <td>0</td>\n",
       "      <td>0</td>\n",
       "      <td>0</td>\n",
       "      <td>1</td>\n",
       "      <td>1</td>\n",
       "    </tr>\n",
       "    <tr>\n",
       "      <th>996</th>\n",
       "      <td>1</td>\n",
       "      <td>0</td>\n",
       "      <td>1</td>\n",
       "      <td>0</td>\n",
       "      <td>0</td>\n",
       "      <td>0</td>\n",
       "      <td>1</td>\n",
       "      <td>0</td>\n",
       "      <td>0</td>\n",
       "      <td>0</td>\n",
       "      <td>0</td>\n",
       "      <td>1</td>\n",
       "    </tr>\n",
       "    <tr>\n",
       "      <th>997</th>\n",
       "      <td>0</td>\n",
       "      <td>0</td>\n",
       "      <td>1</td>\n",
       "      <td>0</td>\n",
       "      <td>0</td>\n",
       "      <td>0</td>\n",
       "      <td>1</td>\n",
       "      <td>0</td>\n",
       "      <td>0</td>\n",
       "      <td>0</td>\n",
       "      <td>0</td>\n",
       "      <td>0</td>\n",
       "    </tr>\n",
       "    <tr>\n",
       "      <th>998</th>\n",
       "      <td>0</td>\n",
       "      <td>0</td>\n",
       "      <td>0</td>\n",
       "      <td>1</td>\n",
       "      <td>0</td>\n",
       "      <td>0</td>\n",
       "      <td>0</td>\n",
       "      <td>0</td>\n",
       "      <td>1</td>\n",
       "      <td>0</td>\n",
       "      <td>1</td>\n",
       "      <td>0</td>\n",
       "    </tr>\n",
       "    <tr>\n",
       "      <th>999</th>\n",
       "      <td>0</td>\n",
       "      <td>0</td>\n",
       "      <td>0</td>\n",
       "      <td>1</td>\n",
       "      <td>0</td>\n",
       "      <td>0</td>\n",
       "      <td>0</td>\n",
       "      <td>0</td>\n",
       "      <td>1</td>\n",
       "      <td>0</td>\n",
       "      <td>0</td>\n",
       "      <td>1</td>\n",
       "    </tr>\n",
       "  </tbody>\n",
       "</table>\n",
       "<p>900 rows × 12 columns</p>\n",
       "</div>"
      ],
      "text/plain": [
       "     gender_male  race/ethnicity_group B  race/ethnicity_group C  \\\n",
       "0              0                       1                       0   \n",
       "1              0                       0                       1   \n",
       "3              1                       0                       0   \n",
       "4              1                       0                       1   \n",
       "5              0                       1                       0   \n",
       "..           ...                     ...                     ...   \n",
       "994            1                       0                       0   \n",
       "996            1                       0                       1   \n",
       "997            0                       0                       1   \n",
       "998            0                       0                       0   \n",
       "999            0                       0                       0   \n",
       "\n",
       "     race/ethnicity_group D  race/ethnicity_group E  \\\n",
       "0                         0                       0   \n",
       "1                         0                       0   \n",
       "3                         0                       0   \n",
       "4                         0                       0   \n",
       "5                         0                       0   \n",
       "..                      ...                     ...   \n",
       "994                       0                       0   \n",
       "996                       0                       0   \n",
       "997                       0                       0   \n",
       "998                       1                       0   \n",
       "999                       1                       0   \n",
       "\n",
       "     parental level of education_bachelor's degree  \\\n",
       "0                                                1   \n",
       "1                                                0   \n",
       "3                                                0   \n",
       "4                                                0   \n",
       "5                                                0   \n",
       "..                                             ...   \n",
       "994                                              0   \n",
       "996                                              0   \n",
       "997                                              0   \n",
       "998                                              0   \n",
       "999                                              0   \n",
       "\n",
       "     parental level of education_high school  \\\n",
       "0                                          0   \n",
       "1                                          0   \n",
       "3                                          0   \n",
       "4                                          0   \n",
       "5                                          0   \n",
       "..                                       ...   \n",
       "994                                        1   \n",
       "996                                        1   \n",
       "997                                        1   \n",
       "998                                        0   \n",
       "999                                        0   \n",
       "\n",
       "     parental level of education_master's degree  \\\n",
       "0                                              0   \n",
       "1                                              0   \n",
       "3                                              0   \n",
       "4                                              0   \n",
       "5                                              0   \n",
       "..                                           ...   \n",
       "994                                            0   \n",
       "996                                            0   \n",
       "997                                            0   \n",
       "998                                            0   \n",
       "999                                            0   \n",
       "\n",
       "     parental level of education_some college  \\\n",
       "0                                           0   \n",
       "1                                           1   \n",
       "3                                           0   \n",
       "4                                           1   \n",
       "5                                           0   \n",
       "..                                        ...   \n",
       "994                                         0   \n",
       "996                                         0   \n",
       "997                                         0   \n",
       "998                                         1   \n",
       "999                                         1   \n",
       "\n",
       "     parental level of education_some high school  lunch_standard  \\\n",
       "0                                               0               1   \n",
       "1                                               0               1   \n",
       "3                                               0               0   \n",
       "4                                               0               1   \n",
       "5                                               0               1   \n",
       "..                                            ...             ...   \n",
       "994                                             0               1   \n",
       "996                                             0               0   \n",
       "997                                             0               0   \n",
       "998                                             0               1   \n",
       "999                                             0               0   \n",
       "\n",
       "     test preparation course_none  \n",
       "0                               1  \n",
       "1                               0  \n",
       "3                               1  \n",
       "4                               1  \n",
       "5                               1  \n",
       "..                            ...  \n",
       "994                             1  \n",
       "996                             1  \n",
       "997                             0  \n",
       "998                             0  \n",
       "999                             1  \n",
       "\n",
       "[900 rows x 12 columns]"
      ]
     },
     "execution_count": 19,
     "metadata": {},
     "output_type": "execute_result"
    }
   ],
   "source": [
    "X_features_encoded = X_features.apply(lambda x: x.astype('category')) \n",
    "\n",
    "X_features_encoded = pd.get_dummies(X_features_encoded,drop_first= True)\n",
    "X_features_encoded\n"
   ]
  },
  {
   "cell_type": "markdown",
   "id": "legendary-madness",
   "metadata": {
    "papermill": {
     "duration": 0.035642,
     "end_time": "2021-04-11T16:29:38.568174",
     "exception": false,
     "start_time": "2021-04-11T16:29:38.532532",
     "status": "completed"
    },
    "tags": []
   },
   "source": [
    "- **Get dummies function is the best function that I have ever worked because If you want to seperate categorical columns from the data, 'generally' you can use this function and LabelEncoder().** "
   ]
  },
  {
   "cell_type": "code",
   "execution_count": 20,
   "id": "unlikely-connectivity",
   "metadata": {
    "execution": {
     "iopub.execute_input": "2021-04-11T16:29:38.646441Z",
     "iopub.status.busy": "2021-04-11T16:29:38.645678Z",
     "iopub.status.idle": "2021-04-11T16:29:38.649235Z",
     "shell.execute_reply": "2021-04-11T16:29:38.649719Z"
    },
    "papermill": {
     "duration": 0.046226,
     "end_time": "2021-04-11T16:29:38.649921",
     "exception": false,
     "start_time": "2021-04-11T16:29:38.603695",
     "status": "completed"
    },
    "tags": []
   },
   "outputs": [
    {
     "data": {
      "text/plain": [
       "0      72.666667\n",
       "1      82.333333\n",
       "3      49.333333\n",
       "4      76.333333\n",
       "5      77.333333\n",
       "         ...    \n",
       "994    62.666667\n",
       "996    57.333333\n",
       "997    65.000000\n",
       "998    74.333333\n",
       "999    83.000000\n",
       "Name: mean_scores, Length: 900, dtype: float64"
      ]
     },
     "execution_count": 20,
     "metadata": {},
     "output_type": "execute_result"
    }
   ],
   "source": [
    "mean_score"
   ]
  },
  {
   "cell_type": "markdown",
   "id": "surface-timeline",
   "metadata": {
    "papermill": {
     "duration": 0.035907,
     "end_time": "2021-04-11T16:29:38.721321",
     "exception": false,
     "start_time": "2021-04-11T16:29:38.685414",
     "status": "completed"
    },
    "tags": []
   },
   "source": [
    "# Train Test "
   ]
  },
  {
   "cell_type": "code",
   "execution_count": 21,
   "id": "absent-matthew",
   "metadata": {
    "execution": {
     "iopub.execute_input": "2021-04-11T16:29:38.795942Z",
     "iopub.status.busy": "2021-04-11T16:29:38.795255Z",
     "iopub.status.idle": "2021-04-11T16:29:38.801679Z",
     "shell.execute_reply": "2021-04-11T16:29:38.802266Z"
    },
    "papermill": {
     "duration": 0.045507,
     "end_time": "2021-04-11T16:29:38.802441",
     "exception": false,
     "start_time": "2021-04-11T16:29:38.756934",
     "status": "completed"
    },
    "tags": []
   },
   "outputs": [],
   "source": [
    "target = mean_score\n",
    "X_train, X_val, y_train, y_val = train_test_split(X_features_encoded, \n",
    "                                                      target, \n",
    "                                                      test_size=0.4, \n",
    "                                                      shuffle = True, \n",
    "                                                      random_state=1)"
   ]
  },
  {
   "cell_type": "markdown",
   "id": "mental-terrace",
   "metadata": {
    "papermill": {
     "duration": 0.035658,
     "end_time": "2021-04-11T16:29:38.873914",
     "exception": false,
     "start_time": "2021-04-11T16:29:38.838256",
     "status": "completed"
    },
    "tags": []
   },
   "source": [
    "# Modelling"
   ]
  },
  {
   "cell_type": "code",
   "execution_count": 22,
   "id": "raising-offering",
   "metadata": {
    "execution": {
     "iopub.execute_input": "2021-04-11T16:29:38.951916Z",
     "iopub.status.busy": "2021-04-11T16:29:38.951132Z",
     "iopub.status.idle": "2021-04-11T16:29:38.954191Z",
     "shell.execute_reply": "2021-04-11T16:29:38.953607Z"
    },
    "papermill": {
     "duration": 0.044689,
     "end_time": "2021-04-11T16:29:38.954337",
     "exception": false,
     "start_time": "2021-04-11T16:29:38.909648",
     "status": "completed"
    },
    "tags": []
   },
   "outputs": [],
   "source": [
    "# true ---> real     predicted---> predict\n",
    "def calculateModel(real, predict):\n",
    "    rmse = np.sqrt(mean_squared_error(real, predict))\n",
    "    r2 = r2_score(real, predict)\n",
    "    print(\"rmse:\",rmse)\n",
    "    print(\"r2 score:\",r2)"
   ]
  },
  {
   "cell_type": "markdown",
   "id": "danish-jewel",
   "metadata": {
    "papermill": {
     "duration": 0.035556,
     "end_time": "2021-04-11T16:29:39.027959",
     "exception": false,
     "start_time": "2021-04-11T16:29:38.992403",
     "status": "completed"
    },
    "tags": []
   },
   "source": [
    "# RMSE - R^2 Score"
   ]
  },
  {
   "cell_type": "code",
   "execution_count": 23,
   "id": "hybrid-robertson",
   "metadata": {
    "execution": {
     "iopub.execute_input": "2021-04-11T16:29:39.132926Z",
     "iopub.status.busy": "2021-04-11T16:29:39.127626Z",
     "iopub.status.idle": "2021-04-11T16:29:39.392252Z",
     "shell.execute_reply": "2021-04-11T16:29:39.391145Z"
    },
    "papermill": {
     "duration": 0.327405,
     "end_time": "2021-04-11T16:29:39.392415",
     "exception": false,
     "start_time": "2021-04-11T16:29:39.065010",
     "status": "completed"
    },
    "tags": []
   },
   "outputs": [
    {
     "name": "stdout",
     "output_type": "stream",
     "text": [
      "Random Forest Regressor\n",
      "------------\n",
      "Train set of RF\n",
      "rmse: 8.574682009141531\n",
      "r2 score: 0.41783250568166785\n",
      "------------\n",
      "Test set of RF\n",
      "rmse: 11.790181517501644\n",
      "r2 score: -0.08320858927677355\n",
      "------------\n",
      "Linear Regression\n",
      "------------\n",
      "Train set of LR\n",
      "rmse: 10.346337851989173\n",
      "r2 score: 0.15241118329678904\n",
      "------------\n",
      "Test set of LR\n",
      "rmse: 10.33611640104146\n",
      "r2 score: 0.1674968310397632\n"
     ]
    }
   ],
   "source": [
    "## Random Forest and Linear Model that I tried to calculate model\n",
    "print(\"Random Forest Regressor\")\n",
    "print(\"------------\")\n",
    "rf = RandomForestRegressor(random_state=0).fit(X_train, y_train)\n",
    "rf_pred = rf.predict(X_train)\n",
    "print(\"Train set of RF\")\n",
    "calculateModel(y_train,rf_pred)\n",
    "\n",
    "print(\"------------\")\n",
    "print(\"Test set of RF\")\n",
    "rf_pred_val= rf.predict(X_val)\n",
    "calculateModel(y_val,rf_pred_val)\n",
    "\n",
    "print(\"------------\")\n",
    "\n",
    "\n",
    "print(\"Linear Regression\")\n",
    "print(\"------------\")\n",
    "lr = LinearRegression(normalize=True).fit(X_train, y_train)\n",
    "lr_pred = lr.predict(X_train)\n",
    "print(\"Train set of LR\")\n",
    "calculateModel(y_train,lr_pred)\n",
    "\n",
    "print(\"------------\")\n",
    "print(\"Test set of LR\")\n",
    "lr_pred_val= lr.predict(X_val)\n",
    "calculateModel(y_val,lr_pred_val)\n"
   ]
  }
 ],
 "metadata": {
  "kernelspec": {
   "display_name": "Python 3",
   "language": "python",
   "name": "python3"
  },
  "language_info": {
   "codemirror_mode": {
    "name": "ipython",
    "version": 3
   },
   "file_extension": ".py",
   "mimetype": "text/x-python",
   "name": "python",
   "nbconvert_exporter": "python",
   "pygments_lexer": "ipython3",
   "version": "3.7.9"
  },
  "papermill": {
   "default_parameters": {},
   "duration": 15.668955,
   "end_time": "2021-04-11T16:29:40.241049",
   "environment_variables": {},
   "exception": null,
   "input_path": "__notebook__.ipynb",
   "output_path": "__notebook__.ipynb",
   "parameters": {},
   "start_time": "2021-04-11T16:29:24.572094",
   "version": "2.3.2"
  }
 },
 "nbformat": 4,
 "nbformat_minor": 5
}
